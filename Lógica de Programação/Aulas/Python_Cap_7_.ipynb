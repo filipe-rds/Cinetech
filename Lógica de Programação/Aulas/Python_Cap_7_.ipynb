{
  "nbformat": 4,
  "nbformat_minor": 0,
  "metadata": {
    "colab": {
      "provenance": [],
      "include_colab_link": true
    },
    "kernelspec": {
      "name": "python3",
      "display_name": "Python 3"
    },
    "language_info": {
      "name": "python"
    }
  },
  "cells": [
    {
      "cell_type": "markdown",
      "metadata": {
        "id": "view-in-github",
        "colab_type": "text"
      },
      "source": [
        "<a href=\"https://colab.research.google.com/github/filipe-rds/Cinetech/blob/main/L%C3%B3gica%20de%20Programa%C3%A7%C3%A3o/Aulas/Python_Cap_7_.ipynb\" target=\"_parent\"><img src=\"https://colab.research.google.com/assets/colab-badge.svg\" alt=\"Open In Colab\"/></a>"
      ]
    },
    {
      "cell_type": "markdown",
      "source": [
        "## PROMETO QUE É ÚLTIMA COISA DE **LISTA**\n",
        "\n",
        "### Criando uma Lista e Acessando Elementos\n",
        "\n",
        "A lista é uma coleção de objetos em Python. Criando uma única variável para representar a lista, podemos armazenar múltiplos valores. Internamente, esses valores são representados por seus **índices**: um número inteiro, iniciando em zero e incrementando com passo unitário.\n",
        "\n",
        "Podemos criar uma lista através da função ```list``` ou utilizando um par de colchetes:\n"
      ],
      "metadata": {
        "id": "dNCmhpfAqlIl"
      }
    },
    {
      "cell_type": "code",
      "source": [
        "lista = []\n",
        "lista = list()\n",
        "type(lista)"
      ],
      "metadata": {
        "id": "MG0kLwNuquX1"
      },
      "execution_count": null,
      "outputs": []
    },
    {
      "cell_type": "code",
      "source": [
        "lista_nomes = ['Jacinto ', 'Paula ', 'Benjamin ', 'Lima', 'Fiza']\n",
        "lista_nomes"
      ],
      "metadata": {
        "id": "t52XMLddqxkY"
      },
      "execution_count": null,
      "outputs": []
    },
    {
      "cell_type": "markdown",
      "source": [
        "## Interar uma lista"
      ],
      "metadata": {
        "id": "NwrxrhyqrpXP"
      }
    },
    {
      "cell_type": "code",
      "source": [
        "for indice in range(len(lista_nomes)):\n",
        "    print(indice, lista_nomes[indice])\n",
        "for nome in lista_nomes:\n",
        "    print(nome)"
      ],
      "metadata": {
        "id": "HVRzttGErrkH"
      },
      "execution_count": null,
      "outputs": []
    },
    {
      "cell_type": "code",
      "source": [
        "nota_1 = [10, 9, 8, 8, 9]\n",
        "nota_2 = [8, 9, 10, 8, 7]\n",
        "nota_3 = [9, 10, 8, 7, 9]"
      ],
      "metadata": {
        "id": "-eKLWnEnru2J"
      },
      "execution_count": null,
      "outputs": []
    },
    {
      "cell_type": "code",
      "source": [
        "lista_aprovacao = [True, False, True, False, True]"
      ],
      "metadata": {
        "id": "nOmKjHT5rwjl"
      },
      "execution_count": null,
      "outputs": []
    },
    {
      "cell_type": "code",
      "source": [
        "for nome, *notas, media, aprovacao in zip(lista_nomes, nota_1, nota_2, nota_3, lista_aprovacao):\n",
        "    print(f'Nome:{nome}')\n",
        "    print(f'Notas:{notas}')\n",
        "    print(f'Média:{media}')\n",
        "    print(f'aprovacao:{aprovacao}')"
      ],
      "metadata": {
        "id": "Oll-wvkWryd4"
      },
      "execution_count": null,
      "outputs": []
    },
    {
      "cell_type": "markdown",
      "source": [
        "# Tuplas\n",
        "\n",
        "### Conceito\n",
        "##### Declaração e inicialização\n",
        "\n",
        "Assim como as listas, tuplas também são coleções de objetos. Elas podem armazenar diversos objetos de diferentes tipos. Elas também possuem índice, que se comporta da mesma maneira que os índices de uma lista. Podemos criar tuplas utilizando parênteses ou a função ```tuple```. Caso a tupla possua pelo menos 2 elementos, não precisamos dos parênteses, basta separar os valores por vírgula, apesar de ser **recomendável** utilizá-los para evitar ambiguidades:"
      ],
      "metadata": {
        "id": "ASqcfbO6qc9L"
      }
    },
    {
      "cell_type": "code",
      "source": [
        "tupla = ()\n",
        "tupla = tuple()\n",
        "type(tupla)"
      ],
      "metadata": {
        "id": "Q5S53hgosGwo"
      },
      "execution_count": null,
      "outputs": []
    },
    {
      "cell_type": "code",
      "source": [
        "PI = (3.14,)\n",
        "constantes = (10,20,30,40,50)"
      ],
      "metadata": {
        "id": "umd0EphlsJm3"
      },
      "execution_count": null,
      "outputs": []
    },
    {
      "cell_type": "code",
      "source": [
        "x, y = 10, 20\n",
        "print(f'X={x}, Y={y}')"
      ],
      "metadata": {
        "colab": {
          "base_uri": "https://localhost:8080/"
        },
        "id": "GhxplJg_sMFc",
        "outputId": "48ce7990-062a-4315-bc28-abab80e3ee05"
      },
      "execution_count": null,
      "outputs": [
        {
          "output_type": "stream",
          "name": "stdout",
          "text": [
            "X=10, Y=20\n"
          ]
        }
      ]
    },
    {
      "cell_type": "code",
      "source": [
        "x, y = y, x\n",
        "print(f'X={x}, Y={y}')"
      ],
      "metadata": {
        "colab": {
          "base_uri": "https://localhost:8080/"
        },
        "id": "4bGQoJcnsSFn",
        "outputId": "2fa52c07-be13-4094-970a-b7414ba55777"
      },
      "execution_count": null,
      "outputs": [
        {
          "output_type": "stream",
          "name": "stdout",
          "text": [
            "X=20, Y=10\n"
          ]
        }
      ]
    },
    {
      "cell_type": "markdown",
      "source": [
        "### Imutabilidade\n",
        "\n",
        "Listas possuem uma propriedade que a tupla **não** possui: **mutabilidade**. O código abaixo irá funcionar para a operação na lista, mas irá falhar para a operação na tupla:"
      ],
      "metadata": {
        "id": "6fWI7M2VsbBZ"
      }
    },
    {
      "cell_type": "code",
      "source": [
        "lista_nomes[1] = 'Maria'\n",
        "lista_nomes"
      ],
      "metadata": {
        "id": "Oa9vQKfHsjI8"
      },
      "execution_count": null,
      "outputs": []
    },
    {
      "cell_type": "code",
      "source": [
        "tupla_nomes = tuple(lista_nomes)\n",
        "tupla_nomes"
      ],
      "metadata": {
        "id": "cbEt-EscxbuF"
      },
      "execution_count": null,
      "outputs": []
    },
    {
      "cell_type": "code",
      "source": [
        "tupla_nomes[1] = 'Machado'"
      ],
      "metadata": {
        "id": "p3CcR-hoxdm0"
      },
      "execution_count": null,
      "outputs": []
    },
    {
      "cell_type": "markdown",
      "source": [
        "Por que alguém escolheria uma estrutura imutável? Por que usar uma lista com _menos recursos_? O principal motivo é precisamente quando não convém alterar os dados. Em Python é muito difícil \"proibir\" algo: nada impede outro programador de transformar a tupla em uma lista, fazer alterações na lista e salvar a nova tupla \"por cima\" da velha, utilizando o mesmo nome para a nova.\n",
        "\n",
        "Porém, quando utilizamos uma tupla, estamos **sinalizando** que aqueles dados **não deveriam** ser alterados, e ninguém irá conseguir alterá-los por acidente. Para alterá-los será necessário realizar uma série de conversões de maneira intencional.\n",
        "\n",
        "Isso aumenta um pouco a segurança e confiabilidade de nosso código em certas situações, evitando a alteração indevida de dados que podem ser críticos para o bom funcionamento do nosso programa.\n",
        "\n",
        "Adicionalmente, em alguns contextos muito específicos - quantidades muito grandes de dados com uma grande quantidade de operações de **leitura** versus poucas ou nenhuma operação de **escrita** - a tupla pode oferecer desempenho significativamente superior à lista. São poucas as situações onde você sentirá essa diferença, seja porque para quantidades muito baixas de dados a lista possui uma série de otimizações que podem torná-la até mais veloz do que a tupla, seja porque para quantidades relativamente grandes de dados a lista ainda será razoavelmente rápida."
      ],
      "metadata": {
        "id": "VXsRkS5oxgl2"
      }
    },
    {
      "cell_type": "code",
      "source": [
        "registro = ('valter', 10, 9, 8, 'aprovado')\n",
        "registro"
      ],
      "metadata": {
        "id": "ChWBvWbNxhMm"
      },
      "execution_count": null,
      "outputs": []
    },
    {
      "cell_type": "code",
      "source": [
        "nome, *notas, aprovacao = ('valter', 10,[ 9, 7, 6], 11, 7, 8, 'aprovado')\n",
        "print(nome)\n",
        "print(notas)\n",
        "print(aprovacao)"
      ],
      "metadata": {
        "id": "6RqaWa1exlqU"
      },
      "execution_count": null,
      "outputs": []
    },
    {
      "cell_type": "markdown",
      "source": [
        "### Operações com tuplas\n",
        "##### Atribuição"
      ],
      "metadata": {
        "id": "Xa50GPfTxuZC"
      }
    },
    {
      "cell_type": "code",
      "source": [
        "x, y = (10,20)\n",
        "print(x)\n",
        "print(y)"
      ],
      "metadata": {
        "id": "nZpc_Iu3xw1K"
      },
      "execution_count": null,
      "outputs": []
    },
    {
      "cell_type": "markdown",
      "source": [
        "##### Adicionando elementos"
      ],
      "metadata": {
        "id": "R-k0xD5Dx1U7"
      }
    },
    {
      "cell_type": "code",
      "source": [
        "tupla_nomes"
      ],
      "metadata": {
        "id": "wtU4kdgLx18c"
      },
      "execution_count": null,
      "outputs": []
    },
    {
      "cell_type": "code",
      "source": [
        "lista_nomes = list(tupla_nomes)"
      ],
      "metadata": {
        "id": "BiYNvHVJx6i-"
      },
      "execution_count": null,
      "outputs": []
    },
    {
      "cell_type": "code",
      "source": [
        "lista_nomes.append('Gomes')\n",
        "lista_nomes"
      ],
      "metadata": {
        "id": "JVHDv0BFx8bv"
      },
      "execution_count": null,
      "outputs": []
    },
    {
      "cell_type": "code",
      "source": [
        "tupla_nomes = tuple(lista_nomes)\n",
        "tupla_nomes"
      ],
      "metadata": {
        "id": "BseffVnjx-lt"
      },
      "execution_count": null,
      "outputs": []
    },
    {
      "cell_type": "code",
      "source": [
        "type(tupla_nomes)"
      ],
      "metadata": {
        "id": "NinanxnAyBPu"
      },
      "execution_count": null,
      "outputs": []
    },
    {
      "cell_type": "markdown",
      "source": [
        "##### Removendo elementos"
      ],
      "metadata": {
        "id": "efouTvKJyEjF"
      }
    },
    {
      "cell_type": "code",
      "source": [
        "tupla_nomes"
      ],
      "metadata": {
        "id": "NzDFpAZiyHXA"
      },
      "execution_count": null,
      "outputs": []
    },
    {
      "cell_type": "code",
      "source": [
        "lista_nomes = list(tupla_nomes)\n",
        "lista_nomes"
      ],
      "metadata": {
        "id": "707gKMtMyJHO"
      },
      "execution_count": null,
      "outputs": []
    },
    {
      "cell_type": "code",
      "source": [
        "lista_nomes.remove('lima')\n",
        "lista_nomes"
      ],
      "metadata": {
        "id": "gebObP2VyK7x"
      },
      "execution_count": null,
      "outputs": []
    },
    {
      "cell_type": "code",
      "source": [
        "tupla_nomes = tuple(lista_nomes)\n",
        "tupla_nomes"
      ],
      "metadata": {
        "id": "skzu-9TeyM2x"
      },
      "execution_count": null,
      "outputs": []
    },
    {
      "cell_type": "markdown",
      "source": [
        "## Iteração\n",
        "### Enumerate"
      ],
      "metadata": {
        "id": "5xW0zYDoyPy5"
      }
    },
    {
      "cell_type": "code",
      "source": [
        "tupla_nomes"
      ],
      "metadata": {
        "id": "yl0Ve22gyQdS"
      },
      "execution_count": null,
      "outputs": []
    },
    {
      "cell_type": "code",
      "source": [
        "for nome in tupla_nomes:\n",
        "    print(nome)"
      ],
      "metadata": {
        "id": "f1UZHPuzyShA"
      },
      "execution_count": null,
      "outputs": []
    },
    {
      "cell_type": "code",
      "source": [
        "for nome in enumerate(tupla_nomes):\n",
        "    print(f'Índice:{nome[0]}, Nome:{nome[1]}')"
      ],
      "metadata": {
        "id": "ai8v-snByUnF"
      },
      "execution_count": null,
      "outputs": []
    },
    {
      "cell_type": "markdown",
      "source": [
        "### Slice"
      ],
      "metadata": {
        "id": "CWgFYOZjyWyx"
      }
    },
    {
      "cell_type": "code",
      "source": [
        "tupla_nomes"
      ],
      "metadata": {
        "id": "9Izijj8HyZeW"
      },
      "execution_count": null,
      "outputs": []
    },
    {
      "cell_type": "code",
      "source": [
        "tupla_nomes[:3]"
      ],
      "metadata": {
        "id": "VjgRairUybZn"
      },
      "execution_count": null,
      "outputs": []
    },
    {
      "cell_type": "code",
      "source": [
        "tupla_nomes[2:5]"
      ],
      "metadata": {
        "id": "23_oKkInydNF"
      },
      "execution_count": null,
      "outputs": []
    },
    {
      "cell_type": "code",
      "source": [
        "tupla_nomes[3:]"
      ],
      "metadata": {
        "id": "UDcSE8AtyfKF"
      },
      "execution_count": null,
      "outputs": []
    },
    {
      "cell_type": "code",
      "source": [
        "tupla_nomes[::-1]"
      ],
      "metadata": {
        "id": "7-woU6S2yhFH"
      },
      "execution_count": null,
      "outputs": []
    },
    {
      "cell_type": "markdown",
      "source": [
        "### Zip"
      ],
      "metadata": {
        "id": "s7lV-DfPyjU3"
      }
    },
    {
      "cell_type": "code",
      "source": [
        "tupla_nomes"
      ],
      "metadata": {
        "id": "3zds6Ke8yl53"
      },
      "execution_count": null,
      "outputs": []
    },
    {
      "cell_type": "code",
      "source": [
        "lista_sobrenomes = ['oliveira','medeiros','vaz','guedes','machado']\n",
        "lista_sobrenomes"
      ],
      "metadata": {
        "id": "jFpZsO9DyphN"
      },
      "execution_count": null,
      "outputs": []
    },
    {
      "cell_type": "code",
      "source": [
        "tupla_sobrenomes = tuple(lista_sobrenomes)\n",
        "tupla_sobrenomes"
      ],
      "metadata": {
        "id": "PkpZlzcoys9s"
      },
      "execution_count": null,
      "outputs": []
    },
    {
      "cell_type": "code",
      "source": [
        "for nome, sobrenome in zip(tupla_nomes, tupla_sobrenomes):\n",
        "    print(f'Nome:{nome} Sobrenome:{sobrenome}')"
      ],
      "metadata": {
        "id": "7dagc1unyvGp"
      },
      "execution_count": null,
      "outputs": []
    },
    {
      "cell_type": "markdown",
      "source": [
        "## Exercícios\n",
        "\n",
        "1. Defina duas tuplas: uma com nomes de comida (pelo menos 5 nomes) e outra com os preços das comidas - preservando a ordem. Mostre no *standard output* a relação de comida-preço.\n",
        "\n",
        "2. Agora, ainda com as tuplas acima, pegue apenas o nome e o preço das três comidas no meio da tupla. (considere \"meio da lista\" como sendo, por exemplo: ('A', 'B', 'C', 'D', 'E') --> ('B', 'C', 'D').\n",
        "\n",
        "3. Defina uma tupla com pelo menos cinco valores e mostre no *standar output* esta tupla invertida. (exemplo, (1, 2, 3, 4) --> (4, 3, 2, 1)\n",
        "\n",
        "4. Dada a seguinte tupla: (('a', 23),('b', 37),('c', 11), ('d',29)). Ordene esta tupla de acordo com o segundo item.\n",
        "\n",
        "5. Defina uma tupla com pelo menos dez itens e crie uma nova tupla com apenas os itens de índice PAR da tupla original.\n",
        "\n",
        "6. Defina uma tupla com pelo menos cinco valores e mostre quantas vezes cada elemento se repete.\n",
        "\n",
        "7. Defina uma tupla e calcule a soma de seus elementos.\n",
        "\n",
        "8. Considere a lista [(4, 5), (4, ), (8, 6, 7), (1, ), (3, 4, 6, 7)]. Faça um programa que remova as tuplas de tamanho K."
      ],
      "metadata": {
        "id": "H9xXWukHyvz6"
      }
    }
  ]
}